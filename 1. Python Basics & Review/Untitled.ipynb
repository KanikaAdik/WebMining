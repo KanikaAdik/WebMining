{
 "cells": [
  {
   "cell_type": "code",
   "execution_count": 5,
   "id": "5b51f8a3",
   "metadata": {},
   "outputs": [],
   "source": [
    "x= [(0.8,0.3,0.1,0),(0.2,0,0,0.3),(0.3,0.6,0,0.7)]\n",
    "import pandas as pd\n",
    "import numpy as np"
   ]
  },
  {
   "cell_type": "code",
   "execution_count": 6,
   "id": "cbbbc8c5",
   "metadata": {},
   "outputs": [],
   "source": [
    "p = pd.DataFrame(x)\n",
    "p\n",
    "n = np.array(x)"
   ]
  },
  {
   "cell_type": "code",
   "execution_count": 8,
   "id": "1c627c7b",
   "metadata": {},
   "outputs": [
    {
     "data": {
      "text/plain": [
       "array([[0.8, 0.3, 0.1, 0. ],\n",
       "       [0.2, 0. , 0. , 0.3],\n",
       "       [0.3, 0.6, 0. , 0.7]])"
      ]
     },
     "execution_count": 8,
     "metadata": {},
     "output_type": "execute_result"
    }
   ],
   "source": [
    "n"
   ]
  },
  {
   "cell_type": "code",
   "execution_count": 11,
   "id": "ffdfe61e",
   "metadata": {},
   "outputs": [
    {
     "data": {
      "text/plain": [
       "array([[3, 2, 1, 0],\n",
       "       [1, 2, 0, 3],\n",
       "       [2, 0, 1, 3]])"
      ]
     },
     "execution_count": 11,
     "metadata": {},
     "output_type": "execute_result"
    }
   ],
   "source": [
    "n.argsort(axis = 1)"
   ]
  },
  {
   "cell_type": "code",
   "execution_count": 10,
   "id": "28807db3",
   "metadata": {},
   "outputs": [
    {
     "data": {
      "text/plain": [
       "array([0, 1, 2])"
      ]
     },
     "execution_count": 10,
     "metadata": {},
     "output_type": "execute_result"
    }
   ],
   "source": [
    "n.argsort(axis = 0)[:,-1]"
   ]
  },
  {
   "cell_type": "code",
   "execution_count": 13,
   "id": "bf0a72a2",
   "metadata": {},
   "outputs": [
    {
     "ename": "ValueError",
     "evalue": "low >= high",
     "output_type": "error",
     "traceback": [
      "\u001b[0;31m---------------------------------------------------------------------------\u001b[0m",
      "\u001b[0;31mValueError\u001b[0m                                Traceback (most recent call last)",
      "\u001b[0;32m/var/folders/16/sj7htwpn37x5chbjt67h8nrr0000gn/T/ipykernel_15677/2301010472.py\u001b[0m in \u001b[0;36m<module>\u001b[0;34m\u001b[0m\n\u001b[0;32m----> 1\u001b[0;31m \u001b[0mnp\u001b[0m\u001b[0;34m.\u001b[0m\u001b[0mrandom\u001b[0m\u001b[0;34m.\u001b[0m\u001b[0mrandint\u001b[0m\u001b[0;34m(\u001b[0m\u001b[0;36m2\u001b[0m\u001b[0;34m,\u001b[0m\u001b[0;36m2\u001b[0m\u001b[0;34m)\u001b[0m\u001b[0;34m\u001b[0m\u001b[0;34m\u001b[0m\u001b[0m\n\u001b[0m",
      "\u001b[0;32mmtrand.pyx\u001b[0m in \u001b[0;36mnumpy.random.mtrand.RandomState.randint\u001b[0;34m()\u001b[0m\n",
      "\u001b[0;32m_bounded_integers.pyx\u001b[0m in \u001b[0;36mnumpy.random._bounded_integers._rand_int64\u001b[0;34m()\u001b[0m\n",
      "\u001b[0;31mValueError\u001b[0m: low >= high"
     ]
    }
   ],
   "source": [
    "np.random.randint(2,2)\n"
   ]
  },
  {
   "cell_type": "code",
   "execution_count": null,
   "id": "10db2f53",
   "metadata": {},
   "outputs": [],
   "source": [
    "import tensorflow as tf\n",
    "A = tf.zeros([0, 4])\n",
    "A\n",
    "l = (1, 2, 3, 4)\n",
    "  \n",
    "# Printing the input\n",
    "print('l: ', l)\n",
    "  \n",
    "# Calculating result\n",
    "x = tf.convert_to_tensor(l, dtype = tf.float64)\n",
    "  \n",
    "  \n",
    "# Printing the result\n",
    "print('x: ', x)"
   ]
  },
  {
   "cell_type": "code",
   "execution_count": 1,
   "id": "96d0f982",
   "metadata": {},
   "outputs": [
    {
     "ename": "NameError",
     "evalue": "name 'shape' is not defined",
     "output_type": "error",
     "traceback": [
      "\u001b[0;31m---------------------------------------------------------------------------\u001b[0m",
      "\u001b[0;31mNameError\u001b[0m                                 Traceback (most recent call last)",
      "\u001b[0;32m/var/folders/16/sj7htwpn37x5chbjt67h8nrr0000gn/T/ipykernel_16092/1068816256.py\u001b[0m in \u001b[0;36m<module>\u001b[0;34m\u001b[0m\n\u001b[0;32m----> 1\u001b[0;31m \u001b[0mshape\u001b[0m\u001b[0;34m(\u001b[0m\u001b[0;36m2\u001b[0m\u001b[0;34m,\u001b[0m\u001b[0;36m1\u001b[0m\u001b[0;34m,\u001b[0m\u001b[0;36m2\u001b[0m\u001b[0;34m)\u001b[0m\u001b[0;34m\u001b[0m\u001b[0;34m\u001b[0m\u001b[0m\n\u001b[0m",
      "\u001b[0;31mNameError\u001b[0m: name 'shape' is not defined"
     ]
    }
   ],
   "source": [
    "shape(2,1,2)"
   ]
  },
  {
   "cell_type": "code",
   "execution_count": 2,
   "id": "e4e1518d",
   "metadata": {},
   "outputs": [
    {
     "data": {
      "text/plain": [
       "array([[0.40891427, 0.25658263, 0.64811458],\n",
       "       [0.99605531, 0.75567394, 0.82806954],\n",
       "       [0.3440789 , 0.5277562 , 0.68483082],\n",
       "       [0.69704147, 0.51755098, 0.83087612]])"
      ]
     },
     "execution_count": 2,
     "metadata": {},
     "output_type": "execute_result"
    }
   ],
   "source": [
    "import numpy as np\n",
    "a = np.random.rand(3,5)\n",
    "b = np.random.rand(4,3)\n",
    "\n",
    "a\n",
    "b"
   ]
  },
  {
   "cell_type": "code",
   "execution_count": 16,
   "id": "bd78214f",
   "metadata": {},
   "outputs": [
    {
     "data": {
      "text/plain": [
       "array([[3.03634865, 2.80623589, 3.86015167],\n",
       "       [2.74343823, 2.54482515, 3.06274547],\n",
       "       [3.38815806, 2.70158051, 3.49800716],\n",
       "       [2.82118845, 2.74598891, 3.59898266],\n",
       "       [3.18693055, 3.01162424, 3.14016427]])"
      ]
     },
     "execution_count": 16,
     "metadata": {},
     "output_type": "execute_result"
    }
   ],
   "source": [
    "a.T+b.sum(axis=0)"
   ]
  },
  {
   "cell_type": "code",
   "execution_count": 5,
   "id": "c2e0a43b",
   "metadata": {},
   "outputs": [],
   "source": [
    "import pandas as pd\n",
    "df = pd.read_csv(\"../../taipy/taipy-project/data/restaurants.csv\")"
   ]
  },
  {
   "cell_type": "code",
   "execution_count": 20,
   "id": "ea7aea8e",
   "metadata": {},
   "outputs": [
    {
     "name": "stderr",
     "output_type": "stream",
     "text": [
      "/var/folders/16/sj7htwpn37x5chbjt67h8nrr0000gn/T/ipykernel_12886/1633975459.py:1: FutureWarning: In a future version of pandas all arguments of StringMethods.split except for the argument 'pat' will be keyword-only.\n",
      "  address = df[\"full_address\"].str.split(\",\", 3, expand=True)\n"
     ]
    },
    {
     "data": {
      "text/plain": [
       "array([' AL', ' Fultondale', ' Birmingham', nan, ' Homewood', ' Hoover',\n",
       "       ' USA', ' Dothan', '3', ' Huntsville', ' Decatur', ' Gulf Shores',\n",
       "       ' WY', ' WI', ' Ashwaubenon', ' Baraboo', ' Lake Delton',\n",
       "       ' Brookfield', ' Oak Creek', ' Hales Corners', ' Wauwatosa',\n",
       "       ' Milwaukee', ' Village of Pewaukee', ' Waunakee', ' Waukesha',\n",
       "       ' Monona', '', ' Kenosha', ' Pleasant Prairie', ' Mt. Pleasant',\n",
       "       ' MN', ' Duluth', ' Green Bay', ' Howard', ' Sheboygan',\n",
       "       ' Madison', ' Janesville', ' Village of', ' IL', ' Spring Grove',\n",
       "       ' Gurnee', ' WV', ' Vienna', ' Morgantown', ' Parkersburg',\n",
       "       ' Charleston', ' Martinsburg', ' Kanawha City', ' OH',\n",
       "       ' Huntington', ' WA', ' Olympia', ' Lacey', ' Seattle', ' Everett',\n",
       "       ' Edmonds', ' Lynnwood', ' Mukilteo', ' Bothell', ' 西雅图',\n",
       "       ' Alderwood Manor', ' Kirkland', ' Mill Creek', ' Suite B-1',\n",
       "       ' seattle', ' Bellevue', ' Snohomish', ' Redmond', ' Duvall',\n",
       "       ' Kennewick', ' Pasco', ' Richland', ' OR', ' Vancouver',\n",
       "       ' Renton', ' Kent', ' Federal Way', ' Tukwila', ' Burien',\n",
       "       ' Bryn Mawr-Skyway', ' Seatac', ' Des Moines', ' Portland',\n",
       "       ' Battle Ground', 'OR', ' Puyallup', ' Lakewood', ' Tacoma',\n",
       "       ' South Hill', ' Tumwater', ' Issaquah', ' Auburn', ' Silverdale',\n",
       "       ' Marysville', ' Dupont', ' Spokane', ' Liberty Lake',\n",
       "       ' Airway Heights', ' Broadway', ' Lake Stevens', ' Snoqualmie',\n",
       "       ' Gig Harbor', ' Port Orchard', ' Bellingham', ' ID', ' MOSCOW',\n",
       "       ' Mercer Island', ' Covington', ' VA', ' Newport News', ' Hampton',\n",
       "       ' Yorktown', ' Suite 10', ' DC', ' Springfield', ' Alexandria',\n",
       "       ' Annandale', ' Manassas', ' Ox Rd', ' #105B', ' Suite 240',\n",
       "       ' Suite #505', ' Williamsburg', ' Staunton', ' Harrisonburg',\n",
       "       ' Bridgewater', ' MD', ' Arlington', ' Washington', ' Providence',\n",
       "       ' Falls Church', ' Fairfax', ' Pimmit Hills', ' Bethesda',\n",
       "       ' McLean', ' Seven Corners', ' Tysons Corner', ' Virginia Beach',\n",
       "       ' Roanoke', ' Cave Spring', ' Ashburn', ' Charity', ' Centreville',\n",
       "       ' Sterling', ' Sully', ' Chantilly', ' Rockville', ' McNair',\n",
       "       ' Broad Run', ' Herndon', ' Reston', ' Dulles', ' Stafford',\n",
       "       ' Suffolk', ' Leesburg', ' Boyds', ' Germantown', ' Hunter Mill',\n",
       "       ' Rock Hill', ' Fredericksburg', ' FREDERICKSBURG', ' Richmond',\n",
       "       ' Ashland', ' Mechanicsville', ' Glen Allen', ' Blacksburg',\n",
       "       ' Lynchburg', ' Rio', ' Henrico', ' Virginia', ' Midlothian',\n",
       "       ' Dale', ' Colonial Heights', ' Petersburg', ' Prince George',\n",
       "       ' Norfolk', ' Chesapeake', ' Portsmouth', ' Charlottesville',\n",
       "       ' Washington D.C.', ' MD 20814', ' North Bethesda',\n",
       "       ' Silver Spring', ' Old Town Manassas', ' Three Chopt',\n",
       "       ' Gainesville', ' Gaithersburg', ' Farmville', ' TN', ' Bristol',\n",
       "       ' D.C.', ' Brentwood', ' VT', ' Essex Junction', ' Winooski',\n",
       "       ' UT', ' Salt Lake City', ' Clearfield', ' 84025', ' Kaysville',\n",
       "       ' West Valley City', ' Ogden', ' Roy', ' Clinton', ' South Jordan',\n",
       "       ' Midvale', ' Millcreek', ' South Salt Lake', ' Lehi', ' Draper',\n",
       "       ' West Valley', ' Murray', ' Utah', ' West Jordan',\n",
       "       ' Taylorsville', ' Sandy', ' St. George', ' Santa Clara', ' Orem',\n",
       "       ' Provo', ' Logan', ' Saint George', ' Holladay', ' Park City',\n",
       "       ' Farmington', ' ', ' San Juan', ' LATAM', ' Av. 65 de Infantería',\n",
       "       ' PR', ' Puerto Rico Puerto Rico', ' Puerto Rico',\n",
       "       ' San Juan Puerto Rico', '29 km) Trujillo Alto\"',\n",
       "       ' San Juan 000924 Puerto Rico', ' Carolina', ' 00926',\n",
       "       ' Edificio 1', ' Food Court', ' Bayamón', ' Toa Alta',\n",
       "       ' #7 Urb. pradera', ' Toa baja', ' Toa Baja', ' Levittown',\n",
       "       ' Dorado', ' Rexville', ' Puerto rico San juan Puerto Rico', ' TX',\n",
       "       ' Wylie', ' Plano', ' Richardson', ' McKinney', ' Murphy',\n",
       "       ' Texas', ' Garland', ' Dallas', ' Allen', ' Lubbock',\n",
       "       ' San Antonio', ' Selma', ' United States', ' San Marcos',\n",
       "       ' Mesquite', ' Red Oak', ' Hutchins', ' Cedar Hill', ' Sunnyvale',\n",
       "       ' Desoto', ' Duncanville', ' Willis', '10', ' Magnolia',\n",
       "       ' Montgomery', ' Fort Worth', ' Lake Worth', ' Willow Park',\n",
       "       ' Wichita Falls', ' Tyler', ' Longview', ' Watauga',\n",
       "       ' North Richland Hills', ' Hurst', ' Keller', ' Haslet',\n",
       "       ' Everman', ' Bedford', ' Euless', ' Irving', ' Grapevine',\n",
       "       ' Denton', ' Austin', ' West Lake Hills', ' Cedar Park',\n",
       "       ' Round Rock', ' Windemere'], dtype=object)"
      ]
     },
     "execution_count": 20,
     "metadata": {},
     "output_type": "execute_result"
    }
   ],
   "source": [
    "address = df[\"full_address\"].str.split(\",\", 3, expand=True)\n",
    "address.loc[:,2].unique()"
   ]
  },
  {
   "cell_type": "code",
   "execution_count": null,
   "id": "b17e9b69",
   "metadata": {},
   "outputs": [],
   "source": []
  }
 ],
 "metadata": {
  "kernelspec": {
   "display_name": "Python 3 (ipykernel)",
   "language": "python",
   "name": "python3"
  },
  "language_info": {
   "codemirror_mode": {
    "name": "ipython",
    "version": 3
   },
   "file_extension": ".py",
   "mimetype": "text/x-python",
   "name": "python",
   "nbconvert_exporter": "python",
   "pygments_lexer": "ipython3",
   "version": "3.9.13"
  }
 },
 "nbformat": 4,
 "nbformat_minor": 5
}
