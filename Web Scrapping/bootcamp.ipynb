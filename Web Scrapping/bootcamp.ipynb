{
 "cells": [
  {
   "cell_type": "markdown",
   "metadata": {},
   "source": [
    "# Install Dependencies\n",
    "```pip install bs4 selenium webdriver_manager numpy pandas -U```"
   ]
  },
  {
   "cell_type": "code",
   "execution_count": 4,
   "metadata": {},
   "outputs": [],
   "source": [
    "a=[]\n",
    "b=[1,2,4,6,7]\n",
    "\n",
    "a.extend(b)"
   ]
  },
  {
   "cell_type": "code",
   "execution_count": 5,
   "metadata": {},
   "outputs": [
    {
     "data": {
      "text/plain": [
       "[1, 2, 4, 6, 7]"
      ]
     },
     "execution_count": 5,
     "metadata": {},
     "output_type": "execute_result"
    }
   ],
   "source": [
    "a"
   ]
  },
  {
   "cell_type": "markdown",
   "metadata": {},
   "source": [
    "# Approach 1) Sitemap/Requests\n",
    "    - visit rottentomatoes.com/robots.txt\n",
    "        - Whats there, what each item means\n",
    "        - Use sitemap if exists\n",
    "    - XML parsing (sitemap)\n",
    "        - use xmltree pacakge in python\n",
    "        - task: get all MOVIE urls out of sitemap\n",
    "        - show solution (use simple requests -> xmltree parse -> store in list)"
   ]
  },
  {
   "cell_type": "markdown",
   "metadata": {},
   "source": [
    "# Step 1: Read Root Sitemap"
   ]
  },
  {
   "cell_type": "code",
   "execution_count": null,
   "metadata": {},
   "outputs": [],
   "source": [
    "# 1) Read Sitemap\n",
    "import requests\n",
    "sitemap_url = 'https://www.rottentomatoes.com/sitemaps/sitemap.xml'\n",
    "sitemap = requests.get(sitemap_url).text"
   ]
  },
  {
   "cell_type": "markdown",
   "metadata": {},
   "source": [
    "## 1-1) Parsing Sitemap"
   ]
  },
  {
   "cell_type": "code",
   "execution_count": null,
   "metadata": {},
   "outputs": [
    {
     "name": "stdout",
     "output_type": "stream",
     "text": [
      "<xml.etree.ElementTree.ElementTree object at 0x7fc9f0264310>\n"
     ]
    }
   ],
   "source": [
    "import xml.etree.ElementTree as ET\n",
    "tree = ET.ElementTree(ET.fromstring(sitemap))\n",
    "print(tree)"
   ]
  },
  {
   "cell_type": "markdown",
   "metadata": {},
   "source": [
    "## 1-2) Make XML tree iterable\n",
    "### Note: <br>\n",
    "    - getroot(): Returns the root element for this tree.<br>\n",
    "    - iter(): Creates and returns a tree iterator for the root element. The iterator loops over all elements in this tree, in section order. tag is the tag to look for (default is to return all elements).<br>\n",
    "    - pprint: Print result in a readable format"
   ]
  },
  {
   "cell_type": "code",
   "execution_count": null,
   "metadata": {},
   "outputs": [
    {
     "name": "stdout",
     "output_type": "stream",
     "text": [
      "[<Element '{http://www.sitemaps.org/schemas/sitemap/0.9}sitemapindex' at 0x7fc9f01a4310>,\n",
      " <Element '{http://www.sitemaps.org/schemas/sitemap/0.9}sitemap' at 0x7fc9f01a43b0>,\n",
      " <Element '{http://www.sitemaps.org/schemas/sitemap/0.9}loc' at 0x7fc9f01a4450>,\n",
      " <Element '{http://www.sitemaps.org/schemas/sitemap/0.9}lastmod' at 0x7fc9f01a44a0>,\n",
      " <Element '{http://www.sitemaps.org/schemas/sitemap/0.9}sitemap' at 0x7fc9f01a44f0>]\n"
     ]
    },
    {
     "data": {
      "text/plain": [
       "412"
      ]
     },
     "execution_count": 3,
     "metadata": {},
     "output_type": "execute_result"
    }
   ],
   "source": [
    "from pprint import pprint\n",
    "parsed_tree = list(tree.getroot().iter())\n",
    "pprint(parsed_tree[:5])\n",
    "len(parsed_tree)"
   ]
  },
  {
   "cell_type": "markdown",
   "metadata": {},
   "source": [
    "## 1-3) Get Secondary (Movie) Sitemaps from Root Sitemap"
   ]
  },
  {
   "cell_type": "code",
   "execution_count": null,
   "metadata": {},
   "outputs": [],
   "source": [
    "# Make an empty list to contain output\n",
    "movie_sitemap_urls = list()\n",
    "# Loop through parsed_tree\n",
    "for element in parsed_tree:\n",
    "    ele_text = element.text  # Get text from child element\n",
    "    # Look for urls containing 'movie'\n",
    "    if 'movie' in ele_text:\n",
    "        movie_sitemap_urls.append(ele_text)  # Append each url to output\n",
    "    continue"
   ]
  },
  {
   "cell_type": "code",
   "execution_count": null,
   "metadata": {},
   "outputs": [
    {
     "name": "stdout",
     "output_type": "stream",
     "text": [
      "['https://www.rottentomatoes.com/sitemaps/movie_0.xml',\n",
      " 'https://www.rottentomatoes.com/sitemaps/movie_1.xml',\n",
      " 'https://www.rottentomatoes.com/sitemaps/movie_2.xml',\n",
      " 'https://www.rottentomatoes.com/sitemaps/movie_3.xml',\n",
      " 'https://www.rottentomatoes.com/sitemaps/movie_4.xml']\n"
     ]
    },
    {
     "data": {
      "text/plain": [
       "33"
      ]
     },
     "execution_count": 6,
     "metadata": {},
     "output_type": "execute_result"
    }
   ],
   "source": [
    "# Examine output\n",
    "pprint(movie_sitemap_urls[:5])\n",
    "len(movie_sitemap_urls)"
   ]
  },
  {
   "cell_type": "markdown",
   "metadata": {},
   "source": [
    "# Step 2: Read Movie Sitemaps"
   ]
  },
  {
   "cell_type": "markdown",
   "metadata": {},
   "source": [
    "## 2-1) Read each movie sitemaps (sample)"
   ]
  },
  {
   "cell_type": "code",
   "execution_count": null,
   "metadata": {},
   "outputs": [
    {
     "name": "stdout",
     "output_type": "stream",
     "text": [
      "Example: https://www.rottentomatoes.com/sitemaps/movie_0.xml\n",
      "Results: ['https://www.rottentomatoes.com/m/beg1994',\n",
      " 'https://www.rottentomatoes.com/m/beg1994/pictures',\n",
      " 'https://www.rottentomatoes.com/m/limo',\n",
      " 'https://www.rottentomatoes.com/m/limo/pictures',\n",
      " 'https://www.rottentomatoes.com/m/tejano']\n"
     ]
    },
    {
     "data": {
      "text/plain": [
       "17563"
      ]
     },
     "execution_count": 8,
     "metadata": {},
     "output_type": "execute_result"
    }
   ],
   "source": [
    "print(f'Example: {movie_sitemap_urls[0]}')\n",
    "movie_urls = list()  # Empty list to store resuslts\n",
    "response = requests.get(movie_sitemap_urls[0])  # Use request to get content\n",
    "tree = ET.ElementTree(ET.fromstring(response.text))  # Get XML Tree\n",
    "parsed_tree = list(tree.getroot().iter())  # Make tree iterable\n",
    "for url in parsed_tree:\n",
    "    # for each 'url' element, there's 2 other elements: 'loc' and 'image'\n",
    "    # we need to loop through them and find each 'loc' for urls\n",
    "    for element in url:\n",
    "        if 'loc' in element.tag and 'rottentomatoes.com/m/' in element.text:\n",
    "            movie_urls.append(element.text)\n",
    "        continue\n",
    "    # print(url)\n",
    "    continue\n",
    "# Examine Results\n",
    "print('Results: ', end='')\n",
    "pprint(movie_urls[:5])\n",
    "len(movie_urls)"
   ]
  },
  {
   "cell_type": "markdown",
   "metadata": {},
   "source": [
    "## 2-2) Loop through all movie sitemaps"
   ]
  },
  {
   "cell_type": "code",
   "execution_count": null,
   "metadata": {},
   "outputs": [
    {
     "name": "stdout",
     "output_type": "stream",
     "text": [
      "228263 Total URLs: ['https://www.rottentomatoes.com/m/meteora_2013',\n",
      " 'https://www.rottentomatoes.com/m/night_creature/pictures',\n",
      " 'https://www.rottentomatoes.com/m/fathers_and_daughters/pictures',\n",
      " 'https://www.rottentomatoes.com/m/dracula_09',\n",
      " 'https://www.rottentomatoes.com/m/a_perfect_match_2021']\n"
     ]
    }
   ],
   "source": [
    "# Empty list to store all results\n",
    "all_movie_urls = list()\n",
    "for url in movie_sitemap_urls:\n",
    "    response = requests.get(url)\n",
    "    tree = ET.ElementTree(ET.fromstring(response.text))\n",
    "    parsed_tree = list(tree.getroot().iter())\n",
    "    for url in parsed_tree:\n",
    "        for element in url:\n",
    "            if 'loc' in element.tag and 'rottentomatoes.com/m/' in element.text:\n",
    "                all_movie_urls.append(element.text)\n",
    "            continue\n",
    "        continue\n",
    "    continue\n",
    "# De-duplicate\n",
    "all_movie_urls = list(set(all_movie_urls))\n",
    "# Examine Results\n",
    "print(f'{len(all_movie_urls)} Total URLs: ', end='')\n",
    "pprint(all_movie_urls[:5])"
   ]
  },
  {
   "cell_type": "markdown",
   "metadata": {},
   "source": [
    "# Step 3: Get Basic Info for each movie"
   ]
  },
  {
   "cell_type": "markdown",
   "metadata": {},
   "source": [
    "## 3-1) Import Packages ##\n",
    "| Packages               | Use                                                         |\n",
    "|------------------------|-------------------------------------------------------------|\n",
    "| bs4 (BeautifulSoup)    | HTML Parser, to find and extract info from HTML source code |\n",
    "| pprint                 | PrettyPrint, to beautify print results                      |\n",
    "| time/sleep             | Pause between loading pages                                 |\n",
    "| requests               | Request web pages                                           |\n",
    "| re (RegularExpression) | To clean scraped text                                       |\n",
    "### RTM: ###\n",
    "- bs4: https://www.crummy.com/software/BeautifulSoup/bs4/doc/\n",
    "- requests: https://requests.readthedocs.io/en/latest/\n",
    "- re: https://docs.python.org/3/library/re.html"
   ]
  },
  {
   "cell_type": "code",
   "execution_count": 8,
   "metadata": {},
   "outputs": [],
   "source": [
    "from bs4 import BeautifulSoup\n",
    "from pprint import pprint\n",
    "from time import sleep\n",
    "import requests\n",
    "import re\n"
   ]
  },
  {
   "cell_type": "markdown",
   "metadata": {},
   "source": [
    "## 3-2) Example for scraping 1 movie"
   ]
  },
  {
   "cell_type": "code",
   "execution_count": null,
   "metadata": {},
   "outputs": [],
   "source": [
    "example_movie_url = 'https://www.rottentomatoes.com/m/top_gun_maverick'\n",
    "# Make soup\n",
    "soup = BeautifulSoup(requests.get(example_movie_url).content, 'html.parser')\n",
    "print(soup.prettify())"
   ]
  },
  {
   "cell_type": "markdown",
   "metadata": {},
   "source": [
    "### Note: ###\n",
    "Before we proceed, we'll inspect HTML elements inside Chrome to get the target attributes, class names, etc. <br>\n",
    "### Note: ###\n",
    "For this exercise, we will get the below information from a movie's page:\n",
    "- Synopsis\n",
    "- Genre\n",
    "- Language\n",
    "- Director/Producer\n",
    "- Release Date\n",
    "- Runtime"
   ]
  },
  {
   "cell_type": "code",
   "execution_count": 10,
   "metadata": {},
   "outputs": [],
   "source": [
    "# Create Empty Dictionary to hold all data\n",
    "output = dict()"
   ]
  },
  {
   "cell_type": "code",
   "execution_count": 11,
   "metadata": {},
   "outputs": [],
   "source": [
    "# Find parent element\n",
    "target_class = 'panel panel-rt panel-box movie_info media'\n",
    "p_block = soup.find(class_=target_class)\n",
    "# pprint(p_block)"
   ]
  },
  {
   "cell_type": "code",
   "execution_count": 12,
   "metadata": {},
   "outputs": [
    {
     "name": "stdout",
     "output_type": "stream",
     "text": [
      "After more than thirty years of service as one of the Navy’s top aviators, Pete “Maverick” Mitchell (Tom Cruise) is where he belongs, pushing the envelope as a courageous test pilot and dodging the advancement in rank that would ground him. When he finds himself training a detachment of Top Gun graduates for a specialized mission the likes of which no living pilot has ever seen, Maverick encounters Lt. Bradley Bradshaw (Miles Teller), call sign: “Rooster,” the son of Maverick’s late friend and Radar Intercept Officer Lt. Nick Bradshaw, aka “Goose”.\n",
      "\n",
      "Facing an uncertain future and confronting the ghosts of his past, Maverick is drawn into a confrontation with his own deepest fears, culminating in a mission that demands the ultimate sacrifice from those who will be chosen to fly it.\n"
     ]
    }
   ],
   "source": [
    "# Find Synopsis\n",
    "movie_synopsis = p_block.find(class_='movie_synopsis clamp clamp-6 js-clamp')\n",
    "movie_synopsis = movie_synopsis.text.strip()\n",
    "print(movie_synopsis)"
   ]
  },
  {
   "cell_type": "code",
   "execution_count": 13,
   "metadata": {},
   "outputs": [],
   "source": [
    "# Insert result into dictionary\n",
    "output['Movie Synopsis'] = movie_synopsis"
   ]
  },
  {
   "cell_type": "code",
   "execution_count": 14,
   "metadata": {},
   "outputs": [],
   "source": [
    "# Find All Other Info: Genre/Language/etc.\n",
    "# Using find_all() to get all rows, then parse detail info from the root element\n",
    "meta_values = p_block.find_all(class_='meta-row clearfix')\n",
    "# print(meta_values)"
   ]
  },
  {
   "cell_type": "code",
   "execution_count": 15,
   "metadata": {},
   "outputs": [
    {
     "name": "stdout",
     "output_type": "stream",
     "text": [
      "Rating:: PG-13 (Some Strong Language|Sequences of Intense Action)\n",
      "Genre:: Action, \n",
      "                        \n",
      "                        Adventure\n",
      "Original Language:: English\n",
      "Director:: Joseph Kosinski\n",
      "Producer:: Jerry Bruckheimer, \n",
      "                            \n",
      "                        \n",
      "                            \n",
      "                                Tom Cruise, \n",
      "                            \n",
      "                        \n",
      "                            \n",
      "                                David Ellison, \n",
      "                            \n",
      "                        \n",
      "                            \n",
      "                                Christopher McQuarrie\n",
      "Writer:: Ehren Kruger, \n",
      "                            \n",
      "                        \n",
      "                            \n",
      "                                Eric Warren Singer, \n",
      "                            \n",
      "                        \n",
      "                            \n",
      "                                Christopher McQuarrie\n",
      "Release Date (Theaters):: May 27, 2022\n",
      " wide\n",
      "Box Office (Gross USA):: $715.8M\n",
      "Runtime:: 2h 11m\n",
      "Distributor:: Paramount Pictures\n",
      "Sound Mix:: Dolby Digital, Dolby Atmos\n",
      "Aspect Ratio:: Scope (2.35:1)\n"
     ]
    }
   ],
   "source": [
    "# Inside each row, find its 'label' and 'value'\n",
    "for mv in meta_values:\n",
    "    label = mv.find(class_='meta-label subtle').text.strip()\n",
    "    value = mv.find(class_='meta-value').text.strip()\n",
    "    output[label] = value  # Insert into output dictionary\n",
    "    print(f'{label}: {value}')\n",
    "    continue"
   ]
  },
  {
   "cell_type": "code",
   "execution_count": 16,
   "metadata": {},
   "outputs": [
    {
     "name": "stdout",
     "output_type": "stream",
     "text": [
      "{'Aspect Ratio:': 'Scope (2.35:1)',\n",
      " 'Box Office (Gross USA):': '$715.8M',\n",
      " 'Director:': 'Joseph Kosinski',\n",
      " 'Distributor:': 'Paramount Pictures',\n",
      " 'Genre:': 'Action, Adventure',\n",
      " 'Movie Synopsis': 'After more than thirty years of service as one of the '\n",
      "                   'Navy’s top aviators, Pete “Maverick” Mitchell (Tom Cruise) '\n",
      "                   'is where he belongs, pushing the envelope as a courageous '\n",
      "                   'test pilot and dodging the advancement in rank that would '\n",
      "                   'ground him. When he finds himself training a detachment of '\n",
      "                   'Top Gun graduates for a specialized mission the likes of '\n",
      "                   'which no living pilot has ever seen, Maverick encounters '\n",
      "                   'Lt. Bradley Bradshaw (Miles Teller), call sign: “Rooster,” '\n",
      "                   'the son of Maverick’s late friend and Radar Intercept '\n",
      "                   'Officer Lt. Nick Bradshaw, aka “Goose”.Facing an uncertain '\n",
      "                   'future and confronting the ghosts of his past, Maverick is '\n",
      "                   'drawn into a confrontation with his own deepest fears, '\n",
      "                   'culminating in a mission that demands the ultimate '\n",
      "                   'sacrifice from those who will be chosen to fly it.',\n",
      " 'Original Language:': 'English',\n",
      " 'Producer:': 'Jerry Bruckheimer, Tom Cruise, David Ellison, Christopher '\n",
      "              'McQuarrie',\n",
      " 'Rating:': 'PG-13 (Some Strong Language|Sequences of Intense Action)',\n",
      " 'Release Date (Theaters):': 'May 27, 2022\\xa0wide',\n",
      " 'Runtime:': '2h 11m',\n",
      " 'Sound Mix:': 'Dolby Digital, Dolby Atmos',\n",
      " 'Writer:': 'Ehren Kruger, Eric Warren Singer, Christopher McQuarrie'}\n"
     ]
    }
   ],
   "source": [
    "# Clean fields\n",
    "for key in output:\n",
    "    original_value = output[key]\n",
    "    new_value = original_value.replace('\\n', '')  # Remove all new-lines\n",
    "    new_value = re.sub(' +', ' ', new_value)  # Remove consequtive white-spaces\n",
    "    output[key] = new_value  # Re-assign into the output dictionary\n",
    "    continue\n",
    "# Examine Result\n",
    "pprint(output)"
   ]
  },
  {
   "cell_type": "markdown",
   "metadata": {},
   "source": [
    "## 3-2) Let's loop through all movies!"
   ]
  },
  {
   "cell_type": "code",
   "execution_count": 17,
   "metadata": {},
   "outputs": [
    {
     "name": "stdout",
     "output_type": "stream",
     "text": [
      "{'Director:': 'Kamika Verma',\n",
      " 'Genre:': 'Drama',\n",
      " 'Movie Synopsis': \"A former militant recognizes her kidnapper's voice, and \"\n",
      "                   'makes plans to extract a confession.',\n",
      " 'Original Language:': 'Hindi',\n",
      " 'Runtime:': '1h 43m',\n",
      " 'Writer:': 'Anish'}\n",
      "{'Director:': 'Raafi Rivero',\n",
      " 'Genre:': 'Comedy, Drama, Romance',\n",
      " 'Movie Synopsis': 'Two African-American college students get ready to '\n",
      "                   'graduate from Princeton University.',\n",
      " 'Original Language:': 'English',\n",
      " 'Producer:': 'Jason Pollard, Roody Dorsainvil, Christopher Poindexter',\n",
      " 'Runtime:': '24m'}\n",
      "{'Director:': 'Jeannot Szwarc',\n",
      " 'Genre:': 'Horror',\n",
      " 'Movie Synopsis': \"Edgar Allan Poe's Paris sleuth, C. Auguste Dupin (George \"\n",
      "                   'C. Scott), solves a macabre case of double murder.',\n",
      " 'Original Language:': 'English',\n",
      " 'Producer:': 'Robert A. Halmi',\n",
      " 'Rating:': 'PG',\n",
      " 'Release Date (Streaming):': 'Feb 4, 2020',\n",
      " 'Runtime:': '1h 40m'}\n",
      "{'Director:': 'Ben Bowie', 'Movie Synopsis': ''}\n",
      "{'Director:': 'Vincent Leung Wing-Chan',\n",
      " 'Genre:': 'Adventure, Sports',\n",
      " 'Movie Synopsis': 'Violent members of a martial arts school try to take over '\n",
      "                   'a small village and end up killing the benevolent head of '\n",
      "                   'a security league in the process.',\n",
      " 'Original Language:': 'Chinese',\n",
      " 'Release Date (Streaming):': 'Sep 6, 2017',\n",
      " 'Runtime:': '1h 18m'}\n",
      "{'Aspect Ratio:': 'Flat (1.85:1)',\n",
      " 'Box Office (Gross USA):': '$18.5M',\n",
      " 'Director:': 'Jay Chandrasekhar',\n",
      " 'Distributor:': 'Fox',\n",
      " 'Genre:': 'Comedy',\n",
      " 'Movie Synopsis': 'Always looking for action, five over-enthusiastic but '\n",
      "                   'under-stimulated Vermont State Troopers raise hell on the '\n",
      "                   'highway, keeping motorists anxiously looking in their '\n",
      "                   'rear-view mirrors. Between an ongoing feud with the local '\n",
      "                   'cops over whose you-know-what is bigger, and the state '\n",
      "                   'government wanting to shut them down, the \"Super Troopers\" '\n",
      "                   'find themselves precariously and hilariously heading '\n",
      "                   'toward calamity as they try to avoid extinction.',\n",
      " 'Original Language:': 'English',\n",
      " 'Producer:': 'Richard Perello',\n",
      " 'Rating:': 'R (Language|Drug Use|Sexual Content)',\n",
      " 'Release Date (Streaming):': 'Oct 14, 2003',\n",
      " 'Release Date (Theaters):': 'Feb 15, 2002\\xa0wide',\n",
      " 'Runtime:': '1h 43m',\n",
      " 'Sound Mix:': 'Dolby Stereo, Dolby Digital, Dolby A, Dolby SR',\n",
      " 'Writer:': 'Jay Chandrasekhar, Kevin Heffernan, Steve Lemme, Paul Soter, Erik '\n",
      "            'Stolhanske'}\n"
     ]
    }
   ],
   "source": [
    "# Create empty dictionary to hold them all\n",
    "all_movies = dict()\n",
    "for url in all_movie_urls[:10]:\n",
    "    output = dict()\n",
    "    # Step 1: Make soup\n",
    "    soup = BeautifulSoup(requests.get(url).content, 'html.parser')\n",
    "    # Step 2: Find parent element\n",
    "    target_class = 'panel panel-rt panel-box movie_info media'\n",
    "    p_block = soup.find(class_=target_class)\n",
    "    # Step 3: Find child elements\n",
    "    if not p_block:\n",
    "        continue  # skip to next movie\n",
    "    try:\n",
    "        movie_synopsis = p_block.find(class_='movie_synopsis clamp clamp-6 js-clamp')\n",
    "        movie_synopsis = movie_synopsis.text.strip()\n",
    "        output['Movie Synopsis'] = movie_synopsis\n",
    "    except AttributeError:\n",
    "        output['Movie Synopsis'] = None\n",
    "        pass\n",
    "    # Find individual meta-values:\n",
    "    # Using find_all() to get each row\n",
    "    meta_values = p_block.find_all(class_='meta-row clearfix')\n",
    "    # Inside each row, find its 'label' and 'value'\n",
    "    for mv in meta_values:\n",
    "        label = mv.find(class_='meta-label subtle').text.strip()\n",
    "        value = mv.find(class_='meta-value').text.strip()\n",
    "        output[label] = value\n",
    "        continue\n",
    "    # Clean fields\n",
    "    for key in output:\n",
    "        original_value = output[key]\n",
    "        new_value = original_value.replace('\\n', '')\n",
    "        new_value = re.sub(' +', ' ', new_value)\n",
    "        output[key] = new_value\n",
    "        continue\n",
    "    all_movies[url] = output\n",
    "    pprint(output)\n",
    "    # sleep(1)\n",
    "    continue"
   ]
  },
  {
   "cell_type": "markdown",
   "metadata": {},
   "source": [
    "# Step 4: More Practice!\n",
    "## 1) Hidden API ##\n",
    "    - rottentomatoes.com\n",
    "    - Read more: https://ianlondon.github.io/blog/web-scraping-discovering-hidden-apis/\n",
    "\n",
    "## 2) Good websites to scrape: ##\n",
    "    - rottentomatoes.com (user/critcs reviews, tv shows, etc.)\n",
    "    - justwatch.com (movies/tv shows)\n",
    "    - glassdoor.com\n",
    "    - indeed.com\n",
    "    - etc.\n",
    "## 3) More advanced/Read more ##\n",
    "    - yelp.com\n",
    "        - User login\n",
    "        - Captcha\n",
    "        - Use proxies/VPNs/random delays/scrappy framework\n",
    "    - airbnb.com\n",
    "    - Multiprocessing/Threading/Async"
   ]
  }
 ],
 "metadata": {
  "kernelspec": {
   "display_name": "Python 3 (ipykernel)",
   "language": "python",
   "name": "python3"
  },
  "language_info": {
   "codemirror_mode": {
    "name": "ipython",
    "version": 3
   },
   "file_extension": ".py",
   "mimetype": "text/x-python",
   "name": "python",
   "nbconvert_exporter": "python",
   "pygments_lexer": "ipython3",
   "version": "3.9.13"
  },
  "vscode": {
   "interpreter": {
    "hash": "cf1ee66cb0a5dbbe9b15b35d8b5ef163dfe6de55254de5ac3d70cf481ad0a057"
   }
  }
 },
 "nbformat": 4,
 "nbformat_minor": 2
}
